{
 "cells": [
  {
   "cell_type": "markdown",
   "id": "88c639dc-bfcd-449e-bddd-55f8bd551dd5",
   "metadata": {},
   "source": [
    "![Facial Recognition](facialrecognition.jpg)"
   ]
  },
  {
   "cell_type": "markdown",
   "id": "0fd04b96-d360-411c-8b17-a10382c97d29",
   "metadata": {},
   "source": [
    "In this project, we play as a member of an elite group of data scientists, specialising in advanced facial recognition technology, this firm is dedicated to identifying and safeguarding prominent individuals from various spheres—ranging from entertainment and sports to politics and philanthropy. The team's mission is to deploy AI-driven solutions that can accurately distinguish between images of notable personalities and the general populace, enhancing the personal security of such high-profile individuals. You're to focus on Arnold Schwarzenegger, a figure whose accomplishments span from bodybuilding champion to Hollywood icon, and from philanthropist to the Governor of California. "
   ]
  },
  {
   "cell_type": "markdown",
   "id": "be124832-8192-4f93-b487-247c3d03d23b",
   "metadata": {},
   "source": [
    "### **The Data**\n",
    "The `data/lfw_arnie_nonarnie.csv` dataset contains processed facial image data derived from the \"Labeled Faces in the Wild\" (LFW) dataset, focusing specifically on images of Arnold Schwarzenegger and other individuals not identified as him. This dataset has been prepared to aid in the development and evaluation of facial recognition models. There are 40 images of Arnold Schwarzenegger and 150 of other people.\n",
    "\n",
    "| Column Name | Description |\n",
    "|-------------|-------------|\n",
    "| PC1, PC2, ... PCN | Principal components from PCA, capturing key image features. |\n",
    "| Label | Binary indicator: `1` for Arnold Schwarzenegger, `0` for others. |"
   ]
  },
  {
   "cell_type": "code",
   "execution_count": 32,
   "id": "2e0be28b-29dd-49bd-8e8b-f3cb828a5065",
   "metadata": {
    "executionCancelledAt": null,
    "executionTime": 4765,
    "lastExecutedAt": 1747745236769,
    "lastExecutedByKernel": "b7872c22-e564-47f2-9e13-020f2b32b532",
    "lastScheduledRunId": null,
    "lastSuccessfullyExecutedCode": "# Import required libraries\nimport pandas as pd\nfrom sklearn.pipeline import Pipeline\nfrom sklearn.preprocessing import StandardScaler\nfrom sklearn.model_selection import GridSearchCV, KFold, train_test_split\nfrom sklearn.metrics import accuracy_score, precision_score, recall_score, f1_score, confusion_matrix\nimport seaborn as sns\nimport matplotlib.pyplot as plt\n\n# Read the CSV file \ndf = pd.read_csv(\"data/lfw_arnie_nonarnie.csv\")\n\n# Seperate the predictor and class label\nX = df.drop('Label', axis=1)\ny = df['Label'] \n\n# Split the data into training and testing sets using stratify to balance the class\nX_train, X_test, y_train, y_test = train_test_split(X, y, test_size=0.2, random_state=21, stratify=y)"
   },
   "outputs": [],
   "source": [
    "# Import required libraries\n",
    "import pandas as pd\n",
    "from sklearn.pipeline import Pipeline\n",
    "from sklearn.preprocessing import StandardScaler\n",
    "from sklearn.model_selection import GridSearchCV, KFold, train_test_split\n",
    "from sklearn.metrics import accuracy_score, precision_score, recall_score, f1_score, confusion_matrix\n",
    "from sklearn.linear_model import LogisticRegression\n",
    "from sklearn.ensemble import RandomForestClassifier\n",
    "from sklearn.svm import SVC\n",
    "import seaborn as sns\n",
    "import matplotlib.pyplot as plt\n",
    "\n",
    "# Read the CSV file \n",
    "df = pd.read_csv(\"data/lfw_arnie_nonarnie.csv\")\n",
    "\n",
    "# Seperate the predictor and class label\n",
    "X = df.drop('Label', axis=1)\n",
    "y = df['Label'] \n",
    "\n",
    "# Split the data into training and testing sets using stratify to balance the class\n",
    "X_train, X_test, y_train, y_test = train_test_split(X, y, test_size=0.2, random_state=21, stratify=y)"
   ]
  },
  {
   "cell_type": "markdown",
   "id": "9508fdfd",
   "metadata": {},
   "source": [
    "### Model Selection\n",
    "\n",
    "We define a dictionary of candidate machine learning models for facial recognition:\n",
    "\n",
    "- **Logistic Regression**: A linear model suitable for binary classification, using the 'liblinear' solver for small datasets.\n",
    "- **Random Forest**: An ensemble method that builds multiple decision trees and merges their results for improved accuracy and robustness.\n",
    "- **Support Vector Machine (SVM)**: A powerful classifier that finds the optimal hyperplane to separate classes, with probability estimates enabled.\n",
    "\n",
    "These models will be compared to determine which performs best at distinguishing Arnold Schwarzenegger from other individuals."
   ]
  },
  {
   "cell_type": "code",
   "execution_count": null,
   "id": "f09a4e74-4a69-4dfc-8a54-f285653796d9",
   "metadata": {},
   "outputs": [],
   "source": [
    "models = {\n",
    "    \"Logistic Regression\": LogisticRegression(),\n",
    "    \"Random Forest\": RandomForestClassifier(),\n",
    "    \"SVM\": SVC()\n",
    "}"
   ]
  },
  {
   "cell_type": "markdown",
   "id": "1fc2640b",
   "metadata": {},
   "source": [
    "### Cross-Validation\n",
    "\n",
    "We use **K-Fold Cross-Validation** with `n_splits=5`, shuffling enabled, and a fixed random seed (`random_state=42`):\n",
    "\n",
    "- **KFold(n_splits=5, shuffle=True, random_state=42)** splits the training data into 5 equal parts (folds).\n",
    "- For each of the 5 iterations, one fold is used as the validation set and the remaining 4 as the training set.\n",
    "- Shuffling ensures the data is randomly distributed across folds, and the random state guarantees reproducibility.\n",
    "\n",
    "**Why for Face Recognition?**  \n",
    "This approach helps us reliably estimate model performance on unseen data, reduces the risk of overfitting, and ensures that our face recognition models generalize well to new images of both Arnold Schwarzenegger and others."
   ]
  },
  {
   "cell_type": "code",
   "execution_count": null,
   "id": "b992388e",
   "metadata": {},
   "outputs": [],
   "source": [
    "kf = KFold(n_splits=5, shuffle=True, random_state=42)"
   ]
  },
  {
   "cell_type": "markdown",
   "id": "0494cfad",
   "metadata": {},
   "source": [
    "### Hyperparameter Tuning with Grid Search\n",
    "\n",
    "To optimize each model, we define a grid of hyperparameters and use **GridSearchCV** to search for the best combination using cross-validation:\n",
    "\n",
    "- **Logistic Regression**:  \n",
    "    - `C`: Regularization strength (`[0.01, 0.1, 1, 10]`)\n",
    "\n",
    "- **Random Forest**:  \n",
    "    - `n_estimators`: Number of trees (`[50, 100, 200]`)\n",
    "    - `max_depth`: Maximum tree depth (`[None, 5, 10]`)\n",
    "\n",
    "- **SVM**:  \n",
    "    - `C`: Regularization parameter (`[0.1, 1, 10]`)\n",
    "    - `kernel`: Kernel type (`['linear', 'rbf']`)\n",
    "    - `gamma`: Kernel coefficient (`['scale', 'auto']`)\n",
    "\n",
    "For each model:\n",
    "1. A pipeline is created with scaling and the classifier.\n",
    "2. Grid search is performed using 5-fold cross-validation.\n",
    "3. The best estimator and its cross-validation score are recorded.\n",
    "\n",
    "Finally, the model with the highest cross-validation accuracy is selected, and its optimal hyperparameters are displayed. This ensures we use the most effective model configuration for facial recognition."
   ]
  },
  {
   "cell_type": "code",
   "execution_count": 73,
   "id": "67599b96",
   "metadata": {},
   "outputs": [
    {
     "name": "stdout",
     "output_type": "stream",
     "text": [
      "Best model: Logistic Regression with CV accuracy: 0.8288\n",
      "Best parameters: {'C': 1, 'class_weight': None, 'dual': False, 'fit_intercept': True, 'intercept_scaling': 1, 'l1_ratio': None, 'max_iter': 100, 'multi_class': 'deprecated', 'n_jobs': None, 'penalty': 'l2', 'random_state': None, 'solver': 'lbfgs', 'tol': 0.0001, 'verbose': 0, 'warm_start': False}\n"
     ]
    }
   ],
   "source": [
    "# Define parameter grids for each model\n",
    "param_grids = {\n",
    "    \"Logistic Regression\": {\n",
    "        'model__C': [0.01, 0.1, 1, 10]\n",
    "    },\n",
    "    \"Random Forest\": {\n",
    "        'model__n_estimators': [50, 100, 200],\n",
    "    },\n",
    "    \"SVM\": {\n",
    "        'model__C': [0.1, 1, 10],\n",
    "        'model__gamma': ['scale', 'auto']\n",
    "    }\n",
    "}\n",
    "\n",
    "best_estimators = {}\n",
    "best_scores = {}\n",
    "\n",
    "for name, model in models.items():\n",
    "    pipe = Pipeline([\n",
    "        ('scaler', StandardScaler()),\n",
    "        ('model', model)\n",
    "    ])\n",
    "    grid = GridSearchCV(pipe, param_grids[name], cv=kf, scoring='accuracy')\n",
    "    grid.fit(X_train, y_train)\n",
    "    best_estimators[name] = grid.best_estimator_\n",
    "    best_scores[name] = grid.best_score_\n",
    "\n",
    "# Find the best model\n",
    "best_model_name = max(best_scores, key=best_scores.get)\n",
    "print(f\"Best model: {best_model_name} with CV accuracy: {best_scores[best_model_name]:.4f}\")\n",
    "print(\"Best parameters:\", best_estimators[best_model_name].named_steps['model'].get_params())"
   ]
  },
  {
   "cell_type": "markdown",
   "id": "2b344ca8",
   "metadata": {},
   "source": [
    "### Evaluating the Best Model on the Test Set\n",
    "\n",
    "After selecting the best-performing model via cross-validation and hyperparameter tuning, we evaluate its effectiveness on the unseen test set. The following metrics are computed:\n",
    "\n",
    "- **Accuracy**: Proportion of correct predictions among all test samples.\n",
    "- **Precision**: Proportion of true Arnold Schwarzenegger identifications among all predicted as him.\n",
    "- **Recall**: Proportion of actual Arnold Schwarzenegger images correctly identified.\n",
    "- **F1 Score**: Harmonic mean of precision and recall, balancing both metrics.\n",
    "\n",
    "These metrics provide a comprehensive assessment of the model's ability to distinguish Arnold Schwarzenegger from other individuals in new, unseen images."
   ]
  },
  {
   "cell_type": "code",
   "execution_count": 74,
   "id": "4beec384",
   "metadata": {},
   "outputs": [
    {
     "name": "stdout",
     "output_type": "stream",
     "text": [
      "Test Accuracy: 0.8158\n",
      "Test Precision: 1.0000\n",
      "Test Recall: 0.1250\n",
      "Test F1 Score: 0.2222\n"
     ]
    }
   ],
   "source": [
    "# Evaluate the best model on the test set\n",
    "\n",
    "best_model = best_estimators[best_model_name]\n",
    "y_pred = best_model.predict(X_test)\n",
    "\n",
    "acc = accuracy_score(y_test, y_pred)\n",
    "prec = precision_score(y_test, y_pred)\n",
    "rec = recall_score(y_test, y_pred)\n",
    "f1 = f1_score(y_test, y_pred)\n",
    "cm = confusion_matrix(y_test, y_pred)\n",
    "\n",
    "print(f\"Test Accuracy: {acc:.4f}\")\n",
    "print(f\"Test Precision: {prec:.4f}\")\n",
    "print(f\"Test Recall: {rec:.4f}\")\n",
    "print(f\"Test F1 Score: {f1:.4f}\")"
   ]
  },
  {
   "cell_type": "markdown",
   "id": "87c91339",
   "metadata": {},
   "source": [
    "### Test Set Performance\n",
    "\n",
    "- **Test Accuracy:** 0.8158  \n",
    "    *Proportion of all test samples correctly classified by the model.*\n",
    "\n",
    "- **Test Precision:** 1.0000  \n",
    "    *Of all images predicted as Arnold Schwarzenegger, 100% were actually him (no false positives).*\n",
    "\n",
    "- **Test Recall:** 0.1250  \n",
    "    *Only 12.5% of actual Arnold Schwarzenegger images were correctly identified (many false negatives).*\n",
    "\n",
    "- **Test F1 Score:** 0.2222  \n",
    "    *The harmonic mean of precision and recall, reflecting a balance between the two.*\n",
    "\n",
    "**Interpretation:**  \n",
    "The model is highly conservative in predicting Arnold Schwarzenegger—when it does, it is always correct (high precision), but it misses most actual cases (low recall). This results in a low F1 score, indicating the model struggles to identify all relevant images of Arnold Schwarzenegger, despite being very accurate when it does make a positive prediction."
   ]
  },
  {
   "cell_type": "markdown",
   "id": "db2d3ed0",
   "metadata": {},
   "source": [
    "### Confusion Matrix Visualization\n",
    "\n",
    "The confusion matrix below illustrates the performance of the best model (**Logistic Regression**) on the test set:\n",
    "\n",
    "- **Rows** represent the actual class (ground truth).\n",
    "- **Columns** represent the predicted class by the model.\n",
    "- The diagonal elements indicate correct predictions, while off-diagonal elements show misclassifications.\n",
    "\n",
    "This visualization helps identify how well the model distinguishes between images of Arnold Schwarzenegger and others, highlighting both correct recognitions and errors (false positives/negatives)."
   ]
  },
  {
   "cell_type": "code",
   "execution_count": 75,
   "id": "0814df03",
   "metadata": {},
   "outputs": [
    {
     "data": {
      "image/png": "[encoded data removed]",
      "text/plain": [
       "<Figure size 500x400 with 2 Axes>"
      ]
     },
     "metadata": {},
     "output_type": "display_data"
    }
   ],
   "source": [
    "# Plot the confusion matrix for the best model's predictions\n",
    "plt.figure(figsize=(5,4))\n",
    "sns.heatmap(cm, annot=True, fmt='d', cmap='Blues', xticklabels=['Not Arnie', 'Arnie'], yticklabels=['Not Arnie', 'Arnie'])\n",
    "plt.xlabel('Predicted')\n",
    "plt.ylabel('Actual')\n",
    "plt.title(f'Confusion Matrix: {best_model_name}')\n",
    "plt.show()"
   ]
  },
  {
   "cell_type": "markdown",
   "id": "ac295c5d",
   "metadata": {},
   "source": [
    "### Conclusion and Recommendations\n",
    "\n",
    "**Conclusion:**  \n",
    "The facial recognition model, optimized through cross-validation and hyperparameter tuning, achieved high precision (1.00) but low recall (0.125) on the test set. This means the model is extremely cautious—when it predicts an image as Arnold Schwarzenegger, it is always correct, but it fails to identify most actual images of him. The overall F1 score (0.22) reflects this imbalance, indicating the model is not effectively capturing all relevant positive cases.\n",
    "\n",
    "**Recommendations:**  \n",
    "- **Address Class Imbalance:** The low recall suggests the model may be biased toward the majority class (non-Arnold images). Consider techniques such as class weighting, oversampling the minority class, or generating synthetic samples (SMOTE) to improve recall.\n",
    "- **Model Complexity:** Explore more complex models (e.g., gradient boosting, neural networks) or ensemble approaches that may capture subtle patterns missed by simpler models.\n",
    "- **Feature Engineering:** Investigate additional features or dimensionality reduction techniques to enhance discriminative power.\n",
    "- **Threshold Adjustment:** Tune the decision threshold to balance precision and recall according to the application's needs (e.g., increase recall if missing Arnold is more costly).\n",
    "- **Data Augmentation:** If possible, collect or generate more images of Arnold Schwarzenegger to provide the model with more positive examples.\n",
    "\n",
    "By implementing these strategies, the model's ability to correctly identify Arnold Schwarzenegger in new images can be improved, making it more effective for real-world facial recognition tasks."
   ]
  },
  {
   "cell_type": "markdown",
   "id": "b1204524",
   "metadata": {},
   "source": [
    "### Second Model Evaluation with Enhanced Hyperparameter Tuning\n",
    "\n",
    "For a more robust evaluation, we redefine our candidate models with explicit random states for reproducibility and enable probability estimates for SVM. The models are:\n",
    "\n",
    "- **Logistic Regression**: `LogisticRegression(random_state=21, solver='liblinear')`\n",
    "- **Random Forest**: `RandomForestClassifier(random_state=21)`\n",
    "- **SVM**: `SVC(random_state=21, probability=True)`\n",
    "\n",
    "We also expand the hyperparameter grids for more comprehensive tuning:\n",
    "\n",
    "- **Logistic Regression**:  \n",
    "    - `C`: `[0.01, 0.1, 1, 10, 100]`  \n",
    "    - `penalty`: `['l1', 'l2']`  \n",
    "    - `class_weight`: `[None, 'balanced']`\n",
    "\n",
    "- **Random Forest**:  \n",
    "    - `n_estimators`: `[50, 100, 200, 300]`  \n",
    "    - `max_depth`: `[None, 5, 10, 20]`  \n",
    "    - `min_samples_split`: `[2, 5, 10]`  \n",
    "    - `class_weight`: `[None, 'balanced']`\n",
    "\n",
    "- **SVM**:  \n",
    "    - `C`: `[0.01, 0.1, 1, 10, 100]`  \n",
    "    - `kernel`: `['linear', 'rbf']`  \n",
    "    - `gamma`: `['scale', 'auto']`  \n",
    "    - `class_weight`: `[None, 'balanced']`\n",
    "\n",
    "This approach allows for a more thorough search of the parameter space, increasing the likelihood of finding optimal configurations for each model. Cross-validation and grid search will be used to select the best-performing model and parameter set."
   ]
  },
  {
   "cell_type": "code",
   "execution_count": 82,
   "id": "6c2f80fb",
   "metadata": {},
   "outputs": [
    {
     "name": "stdout",
     "output_type": "stream",
     "text": [
      "Best model: SVM with CV accuracy: 0.8357\n",
      "Best parameters: {'C': 0.1, 'break_ties': False, 'cache_size': 200, 'class_weight': None, 'coef0': 0.0, 'decision_function_shape': 'ovr', 'degree': 3, 'gamma': 'scale', 'kernel': 'linear', 'max_iter': -1, 'probability': True, 'random_state': 21, 'shrinking': True, 'tol': 0.001, 'verbose': False}\n",
      "Test Accuracy: 0.6842\n",
      "Test Precision: 0.1667\n",
      "Test Recall: 0.1250\n",
      "Test F1 Score: 0.1429\n"
     ]
    }
   ],
   "source": [
    "# Enhanced hyperparameter grids and reproducible models for robust evaluation\n",
    "# Define models with explicit random_state and probability for SVM\n",
    "models_enhanced = {\n",
    "    \"Logistic Regression\": LogisticRegression(random_state=21, solver='liblinear'),\n",
    "    \"Random Forest\": RandomForestClassifier(random_state=21),\n",
    "    \"SVM\": SVC(random_state=21, probability=True)\n",
    "}\n",
    "\n",
    "# Expanded hyperparameter grids\n",
    "param_grids_enhanced = {\n",
    "    \"Logistic Regression\": {\n",
    "        'model__C': [0.01, 0.1, 1, 10, 100],\n",
    "        'model__penalty': ['l1', 'l2'],\n",
    "        'model__class_weight': [None, 'balanced']\n",
    "    },\n",
    "    \"Random Forest\": {\n",
    "        'model__n_estimators': [50, 100, 200, 300],\n",
    "        'model__max_depth': [None, 5, 10, 20],\n",
    "        'model__min_samples_split': [2, 5, 10],\n",
    "        'model__class_weight': [None, 'balanced']\n",
    "    },\n",
    "    \"SVM\": {\n",
    "        'model__C': [0.01, 0.1, 1, 10, 100],\n",
    "        'model__kernel': ['linear', 'rbf'],\n",
    "        'model__gamma': ['scale', 'auto'],\n",
    "        'model__class_weight': [None, 'balanced']\n",
    "    }\n",
    "}\n",
    "\n",
    "\n",
    "best_estimators_enhanced = {}\n",
    "best_scores_enhanced = {}\n",
    "\n",
    "for name, model in models_enhanced.items():\n",
    "    pipe = Pipeline([\n",
    "        ('scaler', StandardScaler()),\n",
    "        ('model', model)\n",
    "    ])\n",
    "    grid = GridSearchCV(pipe, param_grids_enhanced[name], cv=kf, scoring='accuracy')\n",
    "    grid.fit(X_train, y_train)\n",
    "    best_estimators_enhanced[name] = grid.best_estimator_\n",
    "    best_scores_enhanced[name] = grid.best_score_\n",
    "\n",
    "# Select the best model\n",
    "best_model_name_enhanced = max(best_scores_enhanced, key=best_scores_enhanced.get)\n",
    "print(f\"Best model: {best_model_name_enhanced} with CV accuracy: {best_scores_enhanced[best_model_name_enhanced]:.4f}\")\n",
    "print(\"Best parameters:\", best_estimators_enhanced[best_model_name_enhanced].named_steps['model'].get_params())\n",
    "\n",
    "# Evaluate the best model on the test set\n",
    "\n",
    "best_model = best_estimators_enhanced[best_model_name_enhanced]\n",
    "y_pred = best_model.predict(X_test)\n",
    "\n",
    "acc = accuracy_score(y_test, y_pred)\n",
    "prec = precision_score(y_test, y_pred)\n",
    "rec = recall_score(y_test, y_pred)\n",
    "f1 = f1_score(y_test, y_pred)\n",
    "cm = confusion_matrix(y_test, y_pred)\n",
    "\n",
    "print(f\"Test Accuracy: {acc:.4f}\")\n",
    "print(f\"Test Precision: {prec:.4f}\")\n",
    "print(f\"Test Recall: {rec:.4f}\")\n",
    "print(f\"Test F1 Score: {f1:.4f}\")"
   ]
  },
  {
   "cell_type": "markdown",
   "id": "cc391084",
   "metadata": {},
   "source": [
    "### Enhanced Test Set Performance\n",
    "\n",
    "- **Test Accuracy:** 0.6842  \n",
    "    *Proportion of all test samples correctly classified by the enhanced model.*\n",
    "\n",
    "- **Test Precision:** 0.1667  \n",
    "    *Of all images predicted as Arnold Schwarzenegger, 16.7% were actually him (many false positives).*\n",
    "\n",
    "- **Test Recall:** 0.1250  \n",
    "    *Only 12.5% of actual Arnold Schwarzenegger images were correctly identified (many false negatives).*\n",
    "\n",
    "- **Test F1 Score:** 0.1429  \n",
    "    *The harmonic mean of precision and recall, reflecting a balance between the two.*\n",
    "\n",
    "**Interpretation:**  \n",
    "Despite enhanced hyperparameter tuning and model selection, the model still struggles to identify Arnold Schwarzenegger images, with both precision and recall remaining low. This indicates the model frequently misclassifies both positive and negative cases, and further improvements—such as addressing class imbalance or exploring more advanced techniques—are needed for reliable face recognition."
   ]
  },
  {
   "cell_type": "code",
   "execution_count": 83,
   "id": "c7149fc5",
   "metadata": {},
   "outputs": [
    {
     "data": {
      "image/png": "[encoded data removed]",
      "text/plain": [
       "<Figure size 500x400 with 2 Axes>"
      ]
     },
     "metadata": {},
     "output_type": "display_data"
    }
   ],
   "source": [
    "# Plot the confusion matrix for the best model's predictions\n",
    "plt.figure(figsize=(5,4))\n",
    "sns.heatmap(cm, annot=True, fmt='d', cmap='Blues', xticklabels=['Not Arnie', 'Arnie'], yticklabels=['Not Arnie', 'Arnie'])\n",
    "plt.xlabel('Predicted')\n",
    "plt.ylabel('Actual')\n",
    "plt.title(f'Confusion Matrix: {best_model_name_enhanced}')\n",
    "plt.show()"
   ]
  },
  {
   "cell_type": "markdown",
   "id": "eacb5f70",
   "metadata": {},
   "source": [
    "### Enhanced Model: Conclusion and Comparison\n",
    "\n",
    "**Conclusion:**  \n",
    "Despite more extensive hyperparameter tuning and explicit handling of class imbalance, the enhanced model (SVM with probability and class weighting) did **not improve recall** and actually **reduced precision and overall accuracy** compared to the initial approach. The model continues to struggle with identifying Arnold Schwarzenegger images, as indicated by low recall and F1 score.\n",
    "\n",
    "**Difference from the 1st Conclusion:**\n",
    "\n",
    "- **First Model:**  \n",
    "    - **Precision:** Very high (1.00) — when the model predicted \"Arnold,\" it was always correct.\n",
    "    - **Recall:** Very low (0.125) — it missed most actual Arnold images.\n",
    "    - **F1 Score:** Low (0.22) — reflects the imbalance.\n",
    "    - **Behavior:** The model played it very safe, almost never calling an image \"Arnold\" unless it was really sure.\n",
    "\n",
    "- **Enhanced Model:**  \n",
    "    - **Precision:** Much lower (0.17) — more false positives.\n",
    "    - **Recall:** Still very low (0.125) — still misses most Arnold images.\n",
    "    - **F1 Score:** Slightly lower (0.14).\n",
    "    - **Behavior:** The model took a few more chances, but made more mistakes (false positives), and still didn't find more Arnolds.\n",
    "\n",
    "**Summary:**  \n",
    "The enhanced search did not solve the core issue: the model still fails to reliably identify Arnold Schwarzenegger. Addressing class imbalance and exploring more advanced techniques or data augmentation remain necessary for meaningful improvement."
   ]
  }
 ],
 "metadata": {
  "colab": {
   "name": "Welcome to DataCamp Workspaces.ipynb",
   "provenance": []
  },
  "kernelspec": {
   "display_name": "base",
   "language": "python",
   "name": "python3"
  },
  "language_info": {
   "codemirror_mode": {
    "name": "ipython",
    "version": 3
   },
   "file_extension": ".py",
   "mimetype": "text/x-python",
   "name": "python",
   "nbconvert_exporter": "python",
   "pygments_lexer": "ipython3",
   "version": "3.9.21"
  }
 },
 "nbformat": 4,
 "nbformat_minor": 5
}
